{
 "cells": [
  {
   "cell_type": "code",
   "execution_count": 34,
   "id": "c652028e",
   "metadata": {},
   "outputs": [],
   "source": [
    "import pandas as pd\n",
    "import numpy as np\n",
    "import random\n",
    "\n",
    "# Function to generate simulated sensor data\n",
    "def generate_sensor_data(num_rows=1000):\n",
    "    data = {\n",
    "        'Timestamp': pd.date_range(start='2024-01-01', periods=num_rows, freq='H'),\n",
    "        'Machine ID': np.random.randint(1, 10, size=num_rows),\n",
    "        'Total Runtime': np.random.randint(0, 10000, size=num_rows),\n",
    "        'Temperature': np.random.uniform(20, 100, size=num_rows),\n",
    "        'Noise Detection': np.random.choice([0, 1], size=num_rows, p=[0.90, 0.10]),\n",
    "        'Vibration Sensor': np.random.normal(10, 2, size=num_rows),\n",
    "        'Impedance': np.random.uniform(50, 100, size=num_rows)\n",
    "    }\n",
    "\n",
    "    # Simulate maintenance requirements based on thresholds\n",
    "    data['Maintenance Required'] = (\n",
    "        (data['Total Runtime'] > 8000) |\n",
    "        (data['Temperature'] > 80) |\n",
    "        (data['Noise Detection'] == 1) |\n",
    "        (data['Vibration Sensor'] > 15) |\n",
    "        (data['Impedance'] < 60)\n",
    "    ).astype(int)\n",
    "\n",
    "    return pd.DataFrame(data)\n",
    "\n",
    "# Generate and save the data\n",
    "df = generate_sensor_data(10000)\n",
    "df.to_csv('sensor_data.csv', index=False)"
   ]
  },
  {
   "cell_type": "markdown",
   "id": "de44fbd5",
   "metadata": {},
   "source": [
    "Test Data"
   ]
  },
  {
   "cell_type": "code",
   "execution_count": 35,
   "id": "4d5152c1",
   "metadata": {},
   "outputs": [],
   "source": [
    "import pandas as pd\n",
    "import numpy as np\n",
    "\n",
    "# Function to generate simulated test sensor data\n",
    "def generate_test_sensor_data(num_rows=500):\n",
    "    data = {\n",
    "        'Timestamp': pd.date_range(start='2024-02-01', periods=num_rows, freq='H'),\n",
    "        'Machine ID': np.random.randint(1, 10, size=num_rows),\n",
    "        'Total Runtime': np.random.randint(0, 10000, size=num_rows),  # Adjusted range for Total Runtime\n",
    "        'Temperature': np.random.uniform(20, 100, size=num_rows),  # Adjusted range for Temperature\n",
    "        'Noise Detection': np.random.choice([0, 1], size=num_rows, p=[0.90, 0.10]),  # Increased noise detection probability\n",
    "        'Vibration Sensor': np.random.normal(10, 2.5, size=num_rows),  # Increased standard deviation for vibration\n",
    "        'Impedance': np.random.uniform(50, 100, size=num_rows)  # Adjusted range for Impedance\n",
    "    }\n",
    "\n",
    "    return pd.DataFrame(data)\n",
    "\n",
    "# Generate and save the test data\n",
    "test_df = generate_test_sensor_data(20)\n",
    "test_df.to_csv('test_data.csv', index=False)"
   ]
  }
 ],
 "metadata": {
  "kernelspec": {
   "display_name": "Python 3 (ipykernel)",
   "language": "python",
   "name": "python3"
  },
  "language_info": {
   "codemirror_mode": {
    "name": "ipython",
    "version": 3
   },
   "file_extension": ".py",
   "mimetype": "text/x-python",
   "name": "python",
   "nbconvert_exporter": "python",
   "pygments_lexer": "ipython3",
   "version": "3.11.7"
  }
 },
 "nbformat": 4,
 "nbformat_minor": 5
}
